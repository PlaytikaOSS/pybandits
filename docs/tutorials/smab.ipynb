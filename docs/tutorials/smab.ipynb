{
 "cells": [
  {
   "cell_type": "markdown",
   "metadata": {
    "tags": []
   },
   "source": [
    "# Stochastic Multi-Armed Bandit"
   ]
  },
  {
   "cell_type": "markdown",
   "metadata": {},
   "source": [
    "For the stochastic multi-armed bandit (sMAB), we implemented a Bernoulli multi-armed bandit based on Thompson sampling algorithm ([Agrawal and Goyal, 2012](http://proceedings.mlr.press/v23/agrawal12/agrawal12.pdf))."
   ]
  },
  {
   "cell_type": "markdown",
   "metadata": {},
   "source": [
    "![title](img/smab.png)"
   ]
  },
  {
   "cell_type": "markdown",
   "metadata": {},
   "source": [
    "The following notebook contains an example of usage of the class Smab, which implements the algorithm above."
   ]
  },
  {
   "cell_type": "code",
   "execution_count": 1,
   "metadata": {},
   "outputs": [],
   "source": [
    "import random\n",
    "\n",
    "from pybandits.core.smab import Smab"
   ]
  },
  {
   "cell_type": "markdown",
   "metadata": {},
   "source": [
    "First, we need to define the list of possible actions $a_i \\in A$ and the priors parameters for each Beta distibution $\\alpha, \\beta$. By setting them all to 1, all actions have the same probability to be selected by the bandit at the beginning before the first update."
   ]
  },
  {
   "cell_type": "code",
   "execution_count": 2,
   "metadata": {
    "tags": []
   },
   "outputs": [],
   "source": [
    "# define actions\n",
    "action_ids = [\"Action A\", \"Action B\", \"Action C\"]"
   ]
  },
  {
   "cell_type": "code",
   "execution_count": 3,
   "metadata": {},
   "outputs": [],
   "source": [
    "# define beta priors parameters\n",
    "success_priors = {\"Action A\": 1, \"Action B\": 1, \"Action C\": 1}\n",
    "\n",
    "failure_priors = {\"Action A\": 1, \"Action B\": 1, \"Action C\": 1}"
   ]
  },
  {
   "cell_type": "markdown",
   "metadata": {},
   "source": [
    "We can now init the bandit given the list of actions $a_i$ and the success/failure beta priors parameters $\\alpha, \\beta$."
   ]
  },
  {
   "cell_type": "code",
   "execution_count": 4,
   "metadata": {},
   "outputs": [],
   "source": [
    "# init stochastic Multi-Armed Bandit model\n",
    "smab = Smab(action_ids=action_ids, success_priors=success_priors, failure_priors=failure_priors)"
   ]
  },
  {
   "cell_type": "markdown",
   "metadata": {},
   "source": [
    "The predict function below returns the action selected by the bandit at time $t$: $a_t = argmax_k \\theta_k^t$, where $\\theta_k^t$ is the sample from the Beta distribution $k$ at time $t$. The bandit selects one action at time when n_samples=1, or it selects batches of samples when n_samples>1."
   ]
  },
  {
   "cell_type": "code",
   "execution_count": 5,
   "metadata": {},
   "outputs": [
    {
     "name": "stdout",
     "output_type": "stream",
     "text": [
      "Recommended action: ['Action C', 'Action C', 'Action C', 'Action B', 'Action B', 'Action C', 'Action B', 'Action C', 'Action A', 'Action B']\n"
     ]
    }
   ],
   "source": [
    "# predict actions\n",
    "pred_actions, _ = smab.predict(n_samples=1000)\n",
    "print(\"Recommended action: {}\".format(pred_actions[:10]))"
   ]
  },
  {
   "cell_type": "markdown",
   "metadata": {},
   "source": [
    "Now, we observe the rewards from the environment. In this example rewards are randomly simulated. "
   ]
  },
  {
   "cell_type": "code",
   "execution_count": 6,
   "metadata": {},
   "outputs": [
    {
     "name": "stdout",
     "output_type": "stream",
     "text": [
      "Action A: n_successes=285, n_failures=31\n",
      "Action B: n_successes=123, n_failures=210\n",
      "Action C: n_successes=261, n_failures=90\n"
     ]
    }
   ],
   "source": [
    "# simulate rewards from environment\n",
    "n_successes, n_failures = {}, {}\n",
    "for a in action_ids:\n",
    "    n_successes[a] = random.randint(0, pred_actions.count(a))\n",
    "    n_failures[a] = pred_actions.count(a) - n_successes[a]\n",
    "    print(\"{}: n_successes={}, n_failures={}\".format(a, n_successes[a], n_failures[a]))"
   ]
  },
  {
   "cell_type": "markdown",
   "metadata": {},
   "source": [
    "Finally we update the model providing per each action the number of successes $S_i$ and the number of failures $F_i$."
   ]
  },
  {
   "cell_type": "code",
   "execution_count": 7,
   "metadata": {},
   "outputs": [],
   "source": [
    "# update model\n",
    "for a in action_ids:\n",
    "    smab.update(action_id=a, n_successes=n_successes[a], n_failures=n_failures[a])"
   ]
  }
 ],
 "metadata": {
  "hide_input": false,
  "kernelspec": {
   "display_name": "mab",
   "language": "python",
   "name": "mab"
  },
  "language_info": {
   "codemirror_mode": {
    "name": "ipython",
    "version": 3
   },
   "file_extension": ".py",
   "mimetype": "text/x-python",
   "name": "python",
   "nbconvert_exporter": "python",
   "pygments_lexer": "ipython3",
   "version": "3.9.5"
  },
  "pycharm": {
   "stem_cell": {
    "cell_type": "raw",
    "metadata": {
     "collapsed": false
    },
    "source": []
   }
  }
 },
 "nbformat": 4,
 "nbformat_minor": 4
}
