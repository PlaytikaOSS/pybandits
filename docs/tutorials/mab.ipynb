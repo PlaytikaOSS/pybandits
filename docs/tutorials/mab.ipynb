{
 "cells": [
  {
   "attachments": {},
   "cell_type": "markdown",
   "id": "e2595bf3-9767-4338-9a51-ce706dc306cf",
   "metadata": {},
   "source": [
    "# Stochastic Bernoulli Bandit"
   ]
  },
  {
   "cell_type": "code",
   "execution_count": 1,
   "id": "8f8462e5-f38e-4b04-9002-07ababe3ee0c",
   "metadata": {},
   "outputs": [],
   "source": [
    "import numpy as np\n",
    "from rich import print\n",
    "\n",
    "from pybandits.model import Beta\n",
    "from pybandits.smab import SmabBernoulli"
   ]
  },
  {
   "cell_type": "code",
   "execution_count": 2,
   "id": "75d6f625",
   "metadata": {},
   "outputs": [
    {
     "data": {
      "text/plain": [
       "'%.2f'"
      ]
     },
     "execution_count": 2,
     "metadata": {},
     "output_type": "execute_result"
    }
   ],
   "source": [
    "# print 2 decimal places in the notebook\n",
    "%precision %.2f"
   ]
  },
  {
   "attachments": {},
   "cell_type": "markdown",
   "id": "b6b37329-6a3b-4f2a-87a5-e0dcbbb1bb69",
   "metadata": {},
   "source": [
    "## 1. Initialization\n",
    "The following two options are available to initialize the bandit."
   ]
  },
  {
   "attachments": {},
   "cell_type": "markdown",
   "id": "2ca215bf-6321-4819-a539-ebf1f378436a",
   "metadata": {},
   "source": [
    "### 1.1 Initialize via class constructor\n",
    "\n",
    "You can initialize the bandit via the class constructor `SmabBernoulli()`. This is useful to impute prior knowledge on the Beta distributions."
   ]
  },
  {
   "cell_type": "code",
   "execution_count": 3,
   "id": "701111ff-b659-49b7-8cf5-8349536b4cd8",
   "metadata": {},
   "outputs": [],
   "source": [
    "mab = SmabBernoulli(\n",
    "    actions={\n",
    "        \"a1\": Beta(n_successes=1, n_failures=1),\n",
    "        \"a2\": Beta(n_successes=1, n_failures=1),\n",
    "        \"a3\": Beta(n_successes=1, n_failures=1),\n",
    "    }\n",
    ")"
   ]
  },
  {
   "cell_type": "code",
   "execution_count": 4,
   "id": "55112a02-8df2-4895-9414-ddabbfc8ecac",
   "metadata": {},
   "outputs": [
    {
     "data": {
      "text/html": [
       "<pre style=\"white-space:pre;overflow-x:auto;line-height:normal;font-family:Menlo,'DejaVu Sans Mono',consolas,'Courier New',monospace\"><span style=\"color: #800080; text-decoration-color: #800080; font-weight: bold\">SmabBernoulli</span><span style=\"font-weight: bold\">(</span>\n",
       "    <span style=\"color: #808000; text-decoration-color: #808000\">actions</span>=<span style=\"font-weight: bold\">{</span>\n",
       "        <span style=\"color: #008000; text-decoration-color: #008000\">'a1'</span>: <span style=\"color: #800080; text-decoration-color: #800080; font-weight: bold\">Beta</span><span style=\"font-weight: bold\">(</span><span style=\"color: #808000; text-decoration-color: #808000\">n_successes</span>=<span style=\"color: #008080; text-decoration-color: #008080; font-weight: bold\">1</span>, <span style=\"color: #808000; text-decoration-color: #808000\">n_failures</span>=<span style=\"color: #008080; text-decoration-color: #008080; font-weight: bold\">1</span><span style=\"font-weight: bold\">)</span>,\n",
       "        <span style=\"color: #008000; text-decoration-color: #008000\">'a2'</span>: <span style=\"color: #800080; text-decoration-color: #800080; font-weight: bold\">Beta</span><span style=\"font-weight: bold\">(</span><span style=\"color: #808000; text-decoration-color: #808000\">n_successes</span>=<span style=\"color: #008080; text-decoration-color: #008080; font-weight: bold\">1</span>, <span style=\"color: #808000; text-decoration-color: #808000\">n_failures</span>=<span style=\"color: #008080; text-decoration-color: #008080; font-weight: bold\">1</span><span style=\"font-weight: bold\">)</span>,\n",
       "        <span style=\"color: #008000; text-decoration-color: #008000\">'a3'</span>: <span style=\"color: #800080; text-decoration-color: #800080; font-weight: bold\">Beta</span><span style=\"font-weight: bold\">(</span><span style=\"color: #808000; text-decoration-color: #808000\">n_successes</span>=<span style=\"color: #008080; text-decoration-color: #008080; font-weight: bold\">1</span>, <span style=\"color: #808000; text-decoration-color: #808000\">n_failures</span>=<span style=\"color: #008080; text-decoration-color: #008080; font-weight: bold\">1</span><span style=\"font-weight: bold\">)</span>\n",
       "    <span style=\"font-weight: bold\">}</span>,\n",
       "    <span style=\"color: #808000; text-decoration-color: #808000\">strategy</span>=<span style=\"color: #800080; text-decoration-color: #800080; font-weight: bold\">ClassicBandit</span><span style=\"font-weight: bold\">()</span>\n",
       "<span style=\"font-weight: bold\">)</span>\n",
       "</pre>\n"
      ],
      "text/plain": [
       "\u001b[1;35mSmabBernoulli\u001b[0m\u001b[1m(\u001b[0m\n",
       "    \u001b[33mactions\u001b[0m=\u001b[1m{\u001b[0m\n",
       "        \u001b[32m'a1'\u001b[0m: \u001b[1;35mBeta\u001b[0m\u001b[1m(\u001b[0m\u001b[33mn_successes\u001b[0m=\u001b[1;36m1\u001b[0m, \u001b[33mn_failures\u001b[0m=\u001b[1;36m1\u001b[0m\u001b[1m)\u001b[0m,\n",
       "        \u001b[32m'a2'\u001b[0m: \u001b[1;35mBeta\u001b[0m\u001b[1m(\u001b[0m\u001b[33mn_successes\u001b[0m=\u001b[1;36m1\u001b[0m, \u001b[33mn_failures\u001b[0m=\u001b[1;36m1\u001b[0m\u001b[1m)\u001b[0m,\n",
       "        \u001b[32m'a3'\u001b[0m: \u001b[1;35mBeta\u001b[0m\u001b[1m(\u001b[0m\u001b[33mn_successes\u001b[0m=\u001b[1;36m1\u001b[0m, \u001b[33mn_failures\u001b[0m=\u001b[1;36m1\u001b[0m\u001b[1m)\u001b[0m\n",
       "    \u001b[1m}\u001b[0m,\n",
       "    \u001b[33mstrategy\u001b[0m=\u001b[1;35mClassicBandit\u001b[0m\u001b[1m(\u001b[0m\u001b[1m)\u001b[0m\n",
       "\u001b[1m)\u001b[0m\n"
      ]
     },
     "metadata": {},
     "output_type": "display_data"
    }
   ],
   "source": [
    "print(mab)"
   ]
  },
  {
   "attachments": {},
   "cell_type": "markdown",
   "id": "f2ee7bdc-3881-47a5-b7d4-84862f70e643",
   "metadata": {},
   "source": [
    "### 1.2 Initialize via utility function (for cold start)"
   ]
  },
  {
   "attachments": {},
   "cell_type": "markdown",
   "id": "564914fd-73cc-4854-8ec7-548970f794a6",
   "metadata": {},
   "source": [
    "You can initialize the bandit via the utility function `SmabBernoulliMOCC.cold_start()`. This is particulary useful in a cold start setting when there is no prior knowledge on the Beta distruibutions. In this case for all Betas `n_successes` and `n_failures` are set to `1`."
   ]
  },
  {
   "cell_type": "code",
   "execution_count": 5,
   "id": "dbfb0ddd-4c16-441f-8c68-16020e425d57",
   "metadata": {},
   "outputs": [],
   "source": [
    "# generate a smab bernoulli in cold start settings\n",
    "mab = SmabBernoulli.cold_start(action_ids=[\"a1\", \"a2\", \"a3\"])"
   ]
  },
  {
   "cell_type": "code",
   "execution_count": 6,
   "id": "fcc3649c-d08c-46db-a534-f61d97962c99",
   "metadata": {},
   "outputs": [
    {
     "data": {
      "text/html": [
       "<pre style=\"white-space:pre;overflow-x:auto;line-height:normal;font-family:Menlo,'DejaVu Sans Mono',consolas,'Courier New',monospace\"><span style=\"color: #800080; text-decoration-color: #800080; font-weight: bold\">SmabBernoulli</span><span style=\"font-weight: bold\">(</span>\n",
       "    <span style=\"color: #808000; text-decoration-color: #808000\">actions</span>=<span style=\"font-weight: bold\">{</span>\n",
       "        <span style=\"color: #008000; text-decoration-color: #008000\">'a1'</span>: <span style=\"color: #800080; text-decoration-color: #800080; font-weight: bold\">Beta</span><span style=\"font-weight: bold\">(</span><span style=\"color: #808000; text-decoration-color: #808000\">n_successes</span>=<span style=\"color: #008080; text-decoration-color: #008080; font-weight: bold\">1</span>, <span style=\"color: #808000; text-decoration-color: #808000\">n_failures</span>=<span style=\"color: #008080; text-decoration-color: #008080; font-weight: bold\">1</span><span style=\"font-weight: bold\">)</span>,\n",
       "        <span style=\"color: #008000; text-decoration-color: #008000\">'a3'</span>: <span style=\"color: #800080; text-decoration-color: #800080; font-weight: bold\">Beta</span><span style=\"font-weight: bold\">(</span><span style=\"color: #808000; text-decoration-color: #808000\">n_successes</span>=<span style=\"color: #008080; text-decoration-color: #008080; font-weight: bold\">1</span>, <span style=\"color: #808000; text-decoration-color: #808000\">n_failures</span>=<span style=\"color: #008080; text-decoration-color: #008080; font-weight: bold\">1</span><span style=\"font-weight: bold\">)</span>,\n",
       "        <span style=\"color: #008000; text-decoration-color: #008000\">'a2'</span>: <span style=\"color: #800080; text-decoration-color: #800080; font-weight: bold\">Beta</span><span style=\"font-weight: bold\">(</span><span style=\"color: #808000; text-decoration-color: #808000\">n_successes</span>=<span style=\"color: #008080; text-decoration-color: #008080; font-weight: bold\">1</span>, <span style=\"color: #808000; text-decoration-color: #808000\">n_failures</span>=<span style=\"color: #008080; text-decoration-color: #008080; font-weight: bold\">1</span><span style=\"font-weight: bold\">)</span>\n",
       "    <span style=\"font-weight: bold\">}</span>,\n",
       "    <span style=\"color: #808000; text-decoration-color: #808000\">strategy</span>=<span style=\"color: #800080; text-decoration-color: #800080; font-weight: bold\">ClassicBandit</span><span style=\"font-weight: bold\">()</span>\n",
       "<span style=\"font-weight: bold\">)</span>\n",
       "</pre>\n"
      ],
      "text/plain": [
       "\u001b[1;35mSmabBernoulli\u001b[0m\u001b[1m(\u001b[0m\n",
       "    \u001b[33mactions\u001b[0m=\u001b[1m{\u001b[0m\n",
       "        \u001b[32m'a1'\u001b[0m: \u001b[1;35mBeta\u001b[0m\u001b[1m(\u001b[0m\u001b[33mn_successes\u001b[0m=\u001b[1;36m1\u001b[0m, \u001b[33mn_failures\u001b[0m=\u001b[1;36m1\u001b[0m\u001b[1m)\u001b[0m,\n",
       "        \u001b[32m'a3'\u001b[0m: \u001b[1;35mBeta\u001b[0m\u001b[1m(\u001b[0m\u001b[33mn_successes\u001b[0m=\u001b[1;36m1\u001b[0m, \u001b[33mn_failures\u001b[0m=\u001b[1;36m1\u001b[0m\u001b[1m)\u001b[0m,\n",
       "        \u001b[32m'a2'\u001b[0m: \u001b[1;35mBeta\u001b[0m\u001b[1m(\u001b[0m\u001b[33mn_successes\u001b[0m=\u001b[1;36m1\u001b[0m, \u001b[33mn_failures\u001b[0m=\u001b[1;36m1\u001b[0m\u001b[1m)\u001b[0m\n",
       "    \u001b[1m}\u001b[0m,\n",
       "    \u001b[33mstrategy\u001b[0m=\u001b[1;35mClassicBandit\u001b[0m\u001b[1m(\u001b[0m\u001b[1m)\u001b[0m\n",
       "\u001b[1m)\u001b[0m\n"
      ]
     },
     "metadata": {},
     "output_type": "display_data"
    }
   ],
   "source": [
    "print(mab)"
   ]
  },
  {
   "attachments": {},
   "cell_type": "markdown",
   "id": "aa91a5ed-83cc-4016-aa3e-17b8a102bb77",
   "metadata": {},
   "source": [
    "## 2. Function `predict()`"
   ]
  },
  {
   "cell_type": "code",
   "execution_count": 7,
   "id": "a735c03d-cde4-4147-a50d-4b82dd9c1792",
   "metadata": {},
   "outputs": [
    {
     "name": "stdout",
     "output_type": "stream",
     "text": [
      "Help on method predict in module pybandits.smab:\n",
      "\n",
      "predict(n_samples: pydantic.types.PositiveInt = 1, forbidden_actions: Optional[Set[pybandits.base.ActionId]] = None) -> Tuple[List[pybandits.base.ActionId], List[Dict[pybandits.base.ActionId, pybandits.base.Probability]]] method of pybandits.smab.SmabBernoulli instance\n",
      "    Predict actions.\n",
      "    \n",
      "    Parameters\n",
      "    ----------\n",
      "    n_samples : int > 0, default=1\n",
      "        Number of samples to predict.\n",
      "    forbidden_actions : Optional[Set[ActionId]], default=None\n",
      "        Set of forbidden actions. If specified, the model will discard the forbidden_actions and it will only\n",
      "        consider the remaining allowed_actions. By default, the model considers all actions as allowed_actions.\n",
      "        Note that: actions = allowed_actions U forbidden_actions.\n",
      "    \n",
      "    Returns\n",
      "    -------\n",
      "    actions: List[ActionId] of shape (n_samples,)\n",
      "        The actions selected by the multi-armed bandit model.\n",
      "    probs: List[Dict[ActionId, Probability]] of shape (n_samples,)\n",
      "        The probabilities of getting a positive reward for each action.\n",
      "\n"
     ]
    }
   ],
   "source": [
    "help(mab.predict)"
   ]
  },
  {
   "cell_type": "code",
   "execution_count": 8,
   "id": "f3d9cb8b-7d9b-437b-bbc2-e7a55475a1fb",
   "metadata": {},
   "outputs": [],
   "source": [
    "# predict for 5 samples\n",
    "actions, probs = mab.predict(n_samples=5)"
   ]
  },
  {
   "cell_type": "code",
   "execution_count": 9,
   "id": "a9284b11-05ba-4cda-9597-b69e6d7632a3",
   "metadata": {},
   "outputs": [
    {
     "data": {
      "text/plain": [
       "['a3', 'a1', 'a3', 'a1', 'a3']"
      ]
     },
     "execution_count": 9,
     "metadata": {},
     "output_type": "execute_result"
    }
   ],
   "source": [
    "actions"
   ]
  },
  {
   "cell_type": "code",
   "execution_count": 10,
   "id": "84cdbed4-9aa5-42e1-84db-1f8f72c52d93",
   "metadata": {},
   "outputs": [
    {
     "data": {
      "text/plain": [
       "[{'a1': 0.68, 'a3': 0.77, 'a2': 0.51},\n",
       " {'a1': 0.85, 'a3': 0.18, 'a2': 0.82},\n",
       " {'a1': 0.68, 'a3': 0.82, 'a2': 0.42},\n",
       " {'a1': 0.98, 'a3': 0.72, 'a2': 0.22},\n",
       " {'a1': 0.72, 'a3': 0.83, 'a2': 0.13}]"
      ]
     },
     "execution_count": 10,
     "metadata": {},
     "output_type": "execute_result"
    }
   ],
   "source": [
    "probs"
   ]
  },
  {
   "cell_type": "code",
   "execution_count": 11,
   "id": "bfc53fc8-b1bf-42ea-907a-fa5fb7173199",
   "metadata": {},
   "outputs": [],
   "source": [
    "# predict for 5 samples with forbidden actions, in this case `a1` will never be predicted.\n",
    "actions, probs = mab.predict(n_samples=5, forbidden_actions=[\"a1\"])"
   ]
  },
  {
   "cell_type": "code",
   "execution_count": 12,
   "id": "696d58f4-ca5f-41d4-983f-bc7a5351ab28",
   "metadata": {},
   "outputs": [
    {
     "data": {
      "text/plain": [
       "['a2', 'a2', 'a2', 'a3', 'a2']"
      ]
     },
     "execution_count": 12,
     "metadata": {},
     "output_type": "execute_result"
    }
   ],
   "source": [
    "actions"
   ]
  },
  {
   "cell_type": "code",
   "execution_count": 13,
   "id": "f5826785-a5c6-4c06-9bab-9f05134e783e",
   "metadata": {},
   "outputs": [
    {
     "data": {
      "text/plain": [
       "[{'a3': 0.71, 'a2': 0.86},\n",
       " {'a3': 0.51, 'a2': 0.55},\n",
       " {'a3': 0.42, 'a2': 0.87},\n",
       " {'a3': 0.89, 'a2': 0.52},\n",
       " {'a3': 0.41, 'a2': 0.42}]"
      ]
     },
     "execution_count": 13,
     "metadata": {},
     "output_type": "execute_result"
    }
   ],
   "source": [
    "probs"
   ]
  },
  {
   "attachments": {},
   "cell_type": "markdown",
   "id": "d89f7199-bec3-407d-92a9-bdf917c13de6",
   "metadata": {},
   "source": [
    "## 3. Function `update()`"
   ]
  },
  {
   "cell_type": "code",
   "execution_count": 14,
   "id": "140eb2fc-3659-4c13-86d1-ec5a575c79c1",
   "metadata": {},
   "outputs": [
    {
     "name": "stdout",
     "output_type": "stream",
     "text": [
      "Help on method update in module pybandits.smab:\n",
      "\n",
      "update(actions: List[pybandits.base.ActionId], rewards: List[pybandits.base.BinaryReward]) method of pybandits.smab.SmabBernoulli instance\n",
      "    Update the stochastic Bernoulli bandit given the list of selected actions and their corresponding binary\n",
      "    rewards.\n",
      "    \n",
      "    Parameters\n",
      "    ----------\n",
      "    actions : List[ActionId] of shape (n_samples,), e.g. ['a1', 'a2', 'a3', 'a4', 'a5']\n",
      "        The selected action for each sample.\n",
      "    rewards : List[Union[BinaryReward, List[BinaryReward]]] of shape (n_samples, n_objectives)\n",
      "        The binary reward for each sample.\n",
      "            If strategy is not MultiObjectiveBandit, rewards should be a list, e.g.\n",
      "                rewards = [1, 0, 1, 1, 1, ...]\n",
      "            If strategy is MultiObjectiveBandit, rewards should be a list of list, e.g. (with n_objectives=2):\n",
      "                rewards = [[1, 1], [1, 0], [1, 1], [1, 0], [1, 1], ...]\n",
      "\n"
     ]
    }
   ],
   "source": [
    "help(mab.update)"
   ]
  },
  {
   "cell_type": "code",
   "execution_count": 15,
   "id": "2526ed6d-82d4-4485-bc6e-b5cb53dd78a5",
   "metadata": {},
   "outputs": [],
   "source": [
    "# simulate rewards from the environment\n",
    "rewards = [1, 0, 1, 1, 0]"
   ]
  },
  {
   "cell_type": "code",
   "execution_count": 16,
   "id": "3bd0ab45-94e8-415b-adea-a089c54f6274",
   "metadata": {},
   "outputs": [
    {
     "data": {
      "text/html": [
       "<pre style=\"white-space:pre;overflow-x:auto;line-height:normal;font-family:Menlo,'DejaVu Sans Mono',consolas,'Courier New',monospace\"><span style=\"color: #800080; text-decoration-color: #800080; font-weight: bold\">SmabBernoulli</span><span style=\"font-weight: bold\">(</span>\n",
       "    <span style=\"color: #808000; text-decoration-color: #808000\">actions</span>=<span style=\"font-weight: bold\">{</span>\n",
       "        <span style=\"color: #008000; text-decoration-color: #008000\">'a1'</span>: <span style=\"color: #800080; text-decoration-color: #800080; font-weight: bold\">Beta</span><span style=\"font-weight: bold\">(</span><span style=\"color: #808000; text-decoration-color: #808000\">n_successes</span>=<span style=\"color: #008080; text-decoration-color: #008080; font-weight: bold\">1</span>, <span style=\"color: #808000; text-decoration-color: #808000\">n_failures</span>=<span style=\"color: #008080; text-decoration-color: #008080; font-weight: bold\">1</span><span style=\"font-weight: bold\">)</span>,\n",
       "        <span style=\"color: #008000; text-decoration-color: #008000\">'a3'</span>: <span style=\"color: #800080; text-decoration-color: #800080; font-weight: bold\">Beta</span><span style=\"font-weight: bold\">(</span><span style=\"color: #808000; text-decoration-color: #808000\">n_successes</span>=<span style=\"color: #008080; text-decoration-color: #008080; font-weight: bold\">2</span>, <span style=\"color: #808000; text-decoration-color: #808000\">n_failures</span>=<span style=\"color: #008080; text-decoration-color: #008080; font-weight: bold\">1</span><span style=\"font-weight: bold\">)</span>,\n",
       "        <span style=\"color: #008000; text-decoration-color: #008000\">'a2'</span>: <span style=\"color: #800080; text-decoration-color: #800080; font-weight: bold\">Beta</span><span style=\"font-weight: bold\">(</span><span style=\"color: #808000; text-decoration-color: #808000\">n_successes</span>=<span style=\"color: #008080; text-decoration-color: #008080; font-weight: bold\">3</span>, <span style=\"color: #808000; text-decoration-color: #808000\">n_failures</span>=<span style=\"color: #008080; text-decoration-color: #008080; font-weight: bold\">3</span><span style=\"font-weight: bold\">)</span>\n",
       "    <span style=\"font-weight: bold\">}</span>,\n",
       "    <span style=\"color: #808000; text-decoration-color: #808000\">strategy</span>=<span style=\"color: #800080; text-decoration-color: #800080; font-weight: bold\">ClassicBandit</span><span style=\"font-weight: bold\">()</span>\n",
       "<span style=\"font-weight: bold\">)</span>\n",
       "</pre>\n"
      ],
      "text/plain": [
       "\u001b[1;35mSmabBernoulli\u001b[0m\u001b[1m(\u001b[0m\n",
       "    \u001b[33mactions\u001b[0m=\u001b[1m{\u001b[0m\n",
       "        \u001b[32m'a1'\u001b[0m: \u001b[1;35mBeta\u001b[0m\u001b[1m(\u001b[0m\u001b[33mn_successes\u001b[0m=\u001b[1;36m1\u001b[0m, \u001b[33mn_failures\u001b[0m=\u001b[1;36m1\u001b[0m\u001b[1m)\u001b[0m,\n",
       "        \u001b[32m'a3'\u001b[0m: \u001b[1;35mBeta\u001b[0m\u001b[1m(\u001b[0m\u001b[33mn_successes\u001b[0m=\u001b[1;36m2\u001b[0m, \u001b[33mn_failures\u001b[0m=\u001b[1;36m1\u001b[0m\u001b[1m)\u001b[0m,\n",
       "        \u001b[32m'a2'\u001b[0m: \u001b[1;35mBeta\u001b[0m\u001b[1m(\u001b[0m\u001b[33mn_successes\u001b[0m=\u001b[1;36m3\u001b[0m, \u001b[33mn_failures\u001b[0m=\u001b[1;36m3\u001b[0m\u001b[1m)\u001b[0m\n",
       "    \u001b[1m}\u001b[0m,\n",
       "    \u001b[33mstrategy\u001b[0m=\u001b[1;35mClassicBandit\u001b[0m\u001b[1m(\u001b[0m\u001b[1m)\u001b[0m\n",
       "\u001b[1m)\u001b[0m\n"
      ]
     },
     "metadata": {},
     "output_type": "display_data"
    }
   ],
   "source": [
    "# update\n",
    "mab.update(actions=actions, rewards=rewards)\n",
    "print(mab)"
   ]
  },
  {
   "attachments": {},
   "cell_type": "markdown",
   "id": "9823d84c-862b-4bb6-ab36-024f34460595",
   "metadata": {},
   "source": [
    "## 4. Example of usage\n",
    "\n",
    "Simulate 10 updates, for each updates we predict actions for a batch of 1000 samples and then we update the bandit given the rewards."
   ]
  },
  {
   "cell_type": "code",
   "execution_count": 17,
   "id": "a785463d-d710-4844-80bf-42c09b0e0b45",
   "metadata": {},
   "outputs": [],
   "source": [
    "n_updates = 10\n",
    "batch_size = 1000\n",
    "\n",
    "for _ in range(n_updates):\n",
    "    # predict\n",
    "    actions, _ = mab.predict(n_samples=batch_size)\n",
    "\n",
    "    # simulate rewards from the environment\n",
    "    rewards = np.random.choice([0, 1], size=batch_size).tolist()\n",
    "\n",
    "    # update\n",
    "    mab.update(actions=actions, rewards=rewards)"
   ]
  },
  {
   "cell_type": "code",
   "execution_count": 18,
   "id": "034add3d-e6f3-471c-b8b9-30c286faf2cc",
   "metadata": {},
   "outputs": [
    {
     "data": {
      "text/html": [
       "<pre style=\"white-space:pre;overflow-x:auto;line-height:normal;font-family:Menlo,'DejaVu Sans Mono',consolas,'Courier New',monospace\"><span style=\"color: #800080; text-decoration-color: #800080; font-weight: bold\">SmabBernoulli</span><span style=\"font-weight: bold\">(</span>\n",
       "    <span style=\"color: #808000; text-decoration-color: #808000\">actions</span>=<span style=\"font-weight: bold\">{</span>\n",
       "        <span style=\"color: #008000; text-decoration-color: #008000\">'a1'</span>: <span style=\"color: #800080; text-decoration-color: #800080; font-weight: bold\">Beta</span><span style=\"font-weight: bold\">(</span><span style=\"color: #808000; text-decoration-color: #808000\">n_successes</span>=<span style=\"color: #008080; text-decoration-color: #008080; font-weight: bold\">337</span>, <span style=\"color: #808000; text-decoration-color: #808000\">n_failures</span>=<span style=\"color: #008080; text-decoration-color: #008080; font-weight: bold\">369</span><span style=\"font-weight: bold\">)</span>,\n",
       "        <span style=\"color: #008000; text-decoration-color: #008000\">'a3'</span>: <span style=\"color: #800080; text-decoration-color: #800080; font-weight: bold\">Beta</span><span style=\"font-weight: bold\">(</span><span style=\"color: #808000; text-decoration-color: #808000\">n_successes</span>=<span style=\"color: #008080; text-decoration-color: #008080; font-weight: bold\">4448</span>, <span style=\"color: #808000; text-decoration-color: #808000\">n_failures</span>=<span style=\"color: #008080; text-decoration-color: #008080; font-weight: bold\">4315</span><span style=\"font-weight: bold\">)</span>,\n",
       "        <span style=\"color: #008000; text-decoration-color: #008000\">'a2'</span>: <span style=\"color: #800080; text-decoration-color: #800080; font-weight: bold\">Beta</span><span style=\"font-weight: bold\">(</span><span style=\"color: #808000; text-decoration-color: #808000\">n_successes</span>=<span style=\"color: #008080; text-decoration-color: #008080; font-weight: bold\">246</span>, <span style=\"color: #808000; text-decoration-color: #808000\">n_failures</span>=<span style=\"color: #008080; text-decoration-color: #008080; font-weight: bold\">296</span><span style=\"font-weight: bold\">)</span>\n",
       "    <span style=\"font-weight: bold\">}</span>,\n",
       "    <span style=\"color: #808000; text-decoration-color: #808000\">strategy</span>=<span style=\"color: #800080; text-decoration-color: #800080; font-weight: bold\">ClassicBandit</span><span style=\"font-weight: bold\">()</span>\n",
       "<span style=\"font-weight: bold\">)</span>\n",
       "</pre>\n"
      ],
      "text/plain": [
       "\u001b[1;35mSmabBernoulli\u001b[0m\u001b[1m(\u001b[0m\n",
       "    \u001b[33mactions\u001b[0m=\u001b[1m{\u001b[0m\n",
       "        \u001b[32m'a1'\u001b[0m: \u001b[1;35mBeta\u001b[0m\u001b[1m(\u001b[0m\u001b[33mn_successes\u001b[0m=\u001b[1;36m337\u001b[0m, \u001b[33mn_failures\u001b[0m=\u001b[1;36m369\u001b[0m\u001b[1m)\u001b[0m,\n",
       "        \u001b[32m'a3'\u001b[0m: \u001b[1;35mBeta\u001b[0m\u001b[1m(\u001b[0m\u001b[33mn_successes\u001b[0m=\u001b[1;36m4448\u001b[0m, \u001b[33mn_failures\u001b[0m=\u001b[1;36m4315\u001b[0m\u001b[1m)\u001b[0m,\n",
       "        \u001b[32m'a2'\u001b[0m: \u001b[1;35mBeta\u001b[0m\u001b[1m(\u001b[0m\u001b[33mn_successes\u001b[0m=\u001b[1;36m246\u001b[0m, \u001b[33mn_failures\u001b[0m=\u001b[1;36m296\u001b[0m\u001b[1m)\u001b[0m\n",
       "    \u001b[1m}\u001b[0m,\n",
       "    \u001b[33mstrategy\u001b[0m=\u001b[1;35mClassicBandit\u001b[0m\u001b[1m(\u001b[0m\u001b[1m)\u001b[0m\n",
       "\u001b[1m)\u001b[0m\n"
      ]
     },
     "metadata": {},
     "output_type": "display_data"
    }
   ],
   "source": [
    "print(mab)"
   ]
  }
 ],
 "metadata": {
  "kernelspec": {
   "display_name": ".venv",
   "language": "python",
   "name": "python3"
  },
  "language_info": {
   "codemirror_mode": {
    "name": "ipython",
    "version": 3
   },
   "file_extension": ".py",
   "mimetype": "text/x-python",
   "name": "python",
   "nbconvert_exporter": "python",
   "pygments_lexer": "ipython3",
   "version": "3.11.1"
  },
  "vscode": {
   "interpreter": {
    "hash": "4c0b7ad4e59a5402c154e9a426a526859f228c98894a6f9696be93dacf6189a6"
   }
  }
 },
 "nbformat": 4,
 "nbformat_minor": 5
}
