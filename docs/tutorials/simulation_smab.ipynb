{
 "cells": [
  {
   "cell_type": "markdown",
   "metadata": {
    "tags": []
   },
   "source": [
    "# Simulation sMAB"
   ]
  },
  {
   "cell_type": "markdown",
   "metadata": {},
   "source": [
    "This notebook shows a simulation framework for the stochastic multi-armed bandit (sMAB). It allows to study the behaviour of the bandit algoritm, to evaluate results and to run experiments on simulated data under different reward and action settings."
   ]
  },
  {
   "cell_type": "code",
   "execution_count": 1,
   "metadata": {},
   "outputs": [],
   "source": [
    "import numpy as np\n",
    "from pybandits.core.smab import Smab\n",
    "from pybandits.utils.simulation_smab import SimulationSmab"
   ]
  },
  {
   "cell_type": "markdown",
   "metadata": {},
   "source": [
    "First, we need to initialize the sMAB as shown in the previous notebook."
   ]
  },
  {
   "cell_type": "code",
   "execution_count": 2,
   "metadata": {},
   "outputs": [],
   "source": [
    "# define actions\n",
    "action_ids = ['Action A', 'Action B', 'Action C']"
   ]
  },
  {
   "cell_type": "code",
   "execution_count": 3,
   "metadata": {},
   "outputs": [],
   "source": [
    "# init stochastic Multi-Armed Bandit model\n",
    "smab = Smab(action_ids=action_ids)"
   ]
  },
  {
   "cell_type": "markdown",
   "metadata": {},
   "source": [
    "To init SimulationSmab we need to define (i) the numbe of updates in the simulation, (ii) the number of samples per batch to consider at each iteration of the simulation, (ii) the probabilities of positive rewards per each action, i.e. the ground truth ('Action A': 0.6 means that if the bandit selects 'Action A', then the environment will return a positive reward with 60% probability).\n",
    "\n",
    "Data are processed in batches of size n>=1. Per each batch of simulated samples, the sMAB selects one action and collects the corresponding simulated reward for each sample. Then, prior parameters are updated based on returned rewards from recommended actions."
   ]
  },
  {
   "cell_type": "code",
   "execution_count": 4,
   "metadata": {},
   "outputs": [],
   "source": [
    "# init simulation\n",
    "sim = SimulationSmab(smab=smab,\n",
    "                     n_updates=20,\n",
    "                     batch_size=2000,\n",
    "                     probs_reward={'Action A': 0.6, 'Action B': 0.5, 'Action C': 0.8},\n",
    "                     verbose=True)"
   ]
  },
  {
   "cell_type": "markdown",
   "metadata": {},
   "source": [
    "Now, we can start simulation process by executing run() which performs the following steps:\n",
    "```\n",
    "For i=0 to n_updates:\n",
    "    Consider batch[i] of observations\n",
    "    sMAB selects the best action as the action with the highest reward probability for each sample in batch[i].\n",
    "    Rewards are returned for each recommended action\n",
    "    Prior parameters are updated based on recommended actions and returned rewards\n",
    "```\n",
    "Finally we can visualize the results of the simulation. In this case 'Action C' was recommended the most since it has a ground truth of 80% probability to return a positive reward."
   ]
  },
  {
   "cell_type": "code",
   "execution_count": 5,
   "metadata": {},
   "outputs": [
    {
     "name": "stdout",
     "output_type": "stream",
     "text": [
      "Simulation results (first 10 observations):\n",
      "      action  reward\n",
      "0  Action B     0.0\n",
      "1  Action C     1.0\n",
      "2  Action C     0.0\n",
      "3  Action A     1.0\n",
      "4  Action B     1.0\n",
      "5  Action C     1.0\n",
      "6  Action A     1.0\n",
      "7  Action A     1.0\n",
      "8  Action B     0.0\n",
      "9  Action B     0.0 \n",
      "\n",
      "Count of actions selected by the bandit: \n",
      " {'Action C': 38670, 'Action B': 683, 'Action A': 647} \n",
      "\n",
      "Observed proportion of positive rewards for each action:\n",
      " {'Action A': 0.6120556414219475, 'Action B': 0.4978038067349927, 'Action C': 0.7995603827256271} \n",
      "\n"
     ]
    }
   ],
   "source": [
    "# run simulation\n",
    "sim.run()"
   ]
  }
 ],
 "metadata": {
  "hide_input": false,
  "kernelspec": {
   "display_name": "mab",
   "language": "python",
   "name": "mab"
  },
  "language_info": {
   "codemirror_mode": {
    "name": "ipython",
    "version": 3
   },
   "file_extension": ".py",
   "mimetype": "text/x-python",
   "name": "python",
   "nbconvert_exporter": "python",
   "pygments_lexer": "ipython3",
   "version": "3.9.5"
  },
  "pycharm": {
   "stem_cell": {
    "cell_type": "raw",
    "metadata": {
     "collapsed": false
    },
    "source": []
   }
  }
 },
 "nbformat": 4,
 "nbformat_minor": 4
}
